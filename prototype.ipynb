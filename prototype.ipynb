{
 "cells": [
  {
   "cell_type": "code",
   "execution_count": 1,
   "id": "0ede837b",
   "metadata": {},
   "outputs": [],
   "source": [
    "#make sure to build your environment:\n",
    "\n",
    "#%pip install matplotlib numpy pandas plotly voila ipywidgets"
   ]
  },
  {
   "cell_type": "code",
   "execution_count": 2,
   "id": "4cf64772",
   "metadata": {},
   "outputs": [],
   "source": [
    "# ### To run this notebook in \"user mode\" use:\n",
    "\n",
    "# In terminal:\n",
    "# ```voila prototype.ipynb```\n",
    "# or\n",
    "# ```voila <path-to-this-notebook>```\n",
    "\n",
    "# ### This should open your browser and run the notebook without showing the code cells."
   ]
  },
  {
   "cell_type": "code",
   "execution_count": 3,
   "id": "e4378d9a",
   "metadata": {},
   "outputs": [],
   "source": [
    "#maybe use streamlit later on, for a cleaner interface"
   ]
  },
  {
   "cell_type": "code",
   "execution_count": 4,
   "id": "2a031d0f",
   "metadata": {},
   "outputs": [],
   "source": [
    "import matplotlib.pyplot as plt\n",
    "import numpy as np\n",
    "import pandas as pd\n",
    "import plotly.express as px\n",
    "import plotly.graph_objects as go\n",
    "from plotly.subplots import make_subplots\n",
    "\n",
    "from src.utils import GradientDescent"
   ]
  },
  {
   "cell_type": "code",
   "execution_count": null,
   "id": "216f35e4",
   "metadata": {},
   "outputs": [
    {
     "name": "stdout",
     "output_type": "stream",
     "text": [
      "Using the initial point a₀: -1.5\n",
      "Using a learning rate eta η = 0.1\n"
     ]
    }
   ],
   "source": [
    "X_MIN = -2\n",
    "X_MAX = 2\n",
    "# a_0 = -1.5\n",
    "eta = 0.1\n",
    "# #max_iter = 15\n",
    "# GD = GradientDescent(X_MIN, X_MAX)\n",
    "# GD.set_a_0(a_0)\n",
    "# GD.set_eta(eta)\n",
    "# df_gd = GD.gradient_descent()"
   ]
  },
  {
   "cell_type": "code",
   "execution_count": null,
   "id": "f8b93a4d",
   "metadata": {},
   "outputs": [
    {
     "data": {
      "application/vnd.plotly.v1+json": {
       "config": {
        "plotlyServerURL": "https://plot.ly"
       },
       "data": [
        {
         "line": {
          "color": "lightgray"
         },
         "mode": "lines",
         "name": "f(x)",
         "type": "scatter",
         "x": {
          "bdata": "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",
          "dtype": "f8"
         },
         "xaxis": "x",
         "y": {
          "bdata": "rhFEYAdFD0CbZ4sMn+QOQHJQtxgPiA5Am/JkpA4vDkDO4s7fR9kNQNTBXpRZhg1A6sdn4dg1DUAotRclU+cMQA5b4QhQmgxAS6kBqFNODEClvEjG4AIMQJsFBg17twtA4ojaQ6lrC0D//kZ79x4LQObbDB/50ApAKOHn5kqBCkAl07+clC8KQB57NLCK2wlATNNNkO+ECUDQ6iLFlCsJQAgDb8RbzwhA3WFIfTZwCEDgr3mYJw4IQFiAV2xCqQdAEatJpKpBB0B6K52dk9cGQBkIiXw/awZAkT6Z/f38BUAh8+cIK40FQAypqQ0tHAVAZP2PLXOqBEBxsmJAczgEQPfe5LinxgNA5omodI1VA0BMXdOAoeUCQDayCd5edwJAuxq5TTwLAkCWrtAyqqEBQHx8nI8QOwFA0Db0Kc3XAEDu3T3eMXgAQOzv7iiDHABAv7J62u2J/z+f8DL9ZuP+P8X2seKdRf4/U3Fpa52w/T+YJs/9TiT9P5mCwO16oPw/r+cye8kk/D+Un6NjxLD7P2LwGv/YQ/s/n1MX31rd+j+YgWPjhnz6P8eRvraGIPo/0Htio3TI+T9eSuOtX3P5Pwt/n+NPIPk/PD4OyUrO+D+3EabTV3z4P0ME4tqEKfg/v3kTbOrU9z9DvTTtr333Pxdl0HsPI/c/CmNIdlnE9j8CUE+f92D2P5w8OM1v+PU/tLrUGGaK9T+wbuSBnhb1PzjCkgH+nPQ/XPwaBosd9D/mHV1VbZjzPxkX6lbtDfM/BLvHyHJ+8j8aw9fkgurxP70QXf+9UvE/xmeDqdy38D/HFwVlrBrwPz6bCvAX+O4/FAfY48657T/jzfPmZ3zsP5Q1wZrWQes/fAfTEg8M6j82yS7l/NzoPzl4Z2F6tuc/c/m/Fkia5j9y4hvQBIrlPwxSaiomh+Q/Mtxz5/GS4z9wuJYbeK7iP7XTElGO2uE/oAEkt8sX4T/zY19uhmbgPyI2YP2jjd8/ZYr7+/1w3j90GivSN3bdP3jw6lXum9w/o5RkkkTg2z/F8eZN7EDbP/xQDJYwu9o/INrNIQJM2j8ANt5QBfDZP3FIQoiho9k/OkPhpRFj2T/YHck/dSrZP+yWQGDi9dg/D/KEbXfB2D8v3EnrbInYP8LSwMQmStg/gPcP0EQA2D+ynaw/sqjXP7Tc87qzQNc/t6OE3fPF1j/H/S7kjTbWP3P2oVYWkdU/iLw2hqHU1D/wGiLExwDUP7vJxzunFdM/qqi1aOMT0j+iSr4qovzQP6SOIAsNo88/lmKhR1IpzT9EH/R/HZHKP98Jvz054Mc/B8QSoRYdxT/WrAnor07CP/SkPgbR+L4//OiOkNZbuT+wasu+DtazPwpMdSIy7qw/q3uhf52coj9C/5IL8qmRP8DoK62QMEO/BHfRY3ddkb/8yQY+sTmgv7mQyuFh2aa/TyDFROp8rL9WLNn+iIuwv+lLsgZET7K/l+DLvgaHs7/GhViwRjK0vyOoUOKQUrS/6hIjwYLrs78YGRqVuQKzv+gkHdO4n7G//+Gdeo+Xr7+COo/hjSOrvyLCMkX9+6W/IquL38w7oL88aL4En/+Tv371Hta9MXu/tlc6o5KPez86BTzSvdKUPxI+geAFYaE/vHt6rbQ6qD/+fER+mNmuP8oHbgxhkbI/XGKOidB+tT9SLmsZOiq4Pwax4XlWiro/PIAKNqKXvD/7SJsFgEy+PwVAJXxSpb8/V/xXSUZQwD/GawRgXJ/AP3X1qD87wcA/5AERKDe4wD8YmY0znofAP+p2OjipM8A/5FvR7tCCvz9baRbnWG2+P4xBPK3WM70/ruBxxUbkuz9wVA7odY26P66/BU29Prk/XJ6edLwHuD9kNaCuEfi2P+ED8qYSH7Y/KyaLPoaLtT92WqDxYEu1PwLkUgCFa7U/PE3vfYf3tT9ssl9Ue/m2P9RdOC7Debg/N64zGut+uj8y75uXig29P9tPVMoXFMA/AFB0X6nnwT/ijZetqgDEPx5ncFdEXcY/yPJcbJ/6yD8ER/1l8tTLPyhCj3uS584/fInmfYQW0T//r9Alls/SP1U2rAuem9Q/9pmqGgB31j/Qh3/W9F3YP3pDaKWaTNo/lYurkQc/3D+gV1cxWzHeP7FsKTHoD+A/V3rRRGcD4T8qKX0DffHhPxYNqcih2OI/qkoiG3u34z9OVxDe4YzkPxz3B5fnV+U/Jy8HsdoX5j9RKtuoSczmP9SGaxQFdec/GGWjeyAS6D/U5hf/8aPoP63fBM4QK+k/kjyqclKo6T8ONWYBxxzqPxJdATy0ieo/dtNqv4/w6j/GLYZW+FLrP+9QlpCusus/bDouvYwR7D/Tb1NyfnHsP366mMN31Ow/UmBhUmw87T8jvC5gRqvtP2zC0AveIu4/48yN4fCk7j+5etrkGTPvP5ZTDjjKzu8/HY3XQaE88D/PIMCdxpnwP+e3xu08//A/rkJ8mUxt8T/mwcBmHeTxP6R8z8O1Y/I/kNzTqfrr8j8Qho0YsHzzPwALzih6FfQ//XvosN619D/tcY9zR131P5/eJM8EC/Y/WVgz4VC+9j81KrUPU3b3PxS4++cjMvg/uQyCQdHw+D/ssb6RYrH5PxLMKF3dcvo/w9wesUk0+z+u7jSStvT7P3X5pEo+s/w/kBQuhQpv/T9O+JohWCf+PzUearF62/4/YcyjjN+K/z9DpmI4iBoAQIEA4s7abABA7aq+s0u8AECuiDOazwgBQNVvefJrUgFACA/m0DaZAUBOxOmIVt0BQDx8uv0AHwJA6rTNq3peAkC0bolvFZwCQPtbxQ4v2AJAdovNiy8TA0DeFJFJh00DQEuKfQmthwNAyEQ3zBvCA0Bm7uOeUP0DQBSOFV/IOQRAlzqPf/13BEA0thjYZbgEQP+dY4pw+wRAPHWkBYRBBUAoYPUx/IoFQGhc4sso2AVAgHCi90spBkDgl4ISmX4GQFWq6scz2AZAIzsvbi82B0Dd8hqujpgHQG4XxHZD/wdANOrlPS9qCEBKepeLI9kIQO7B4M7iSwlAYIphdyHCCUD/lwFPhzsKQF6sfA2xtwpAbzuUHjI2C0C3/ciSlrYLQO33uzFlOAxAjpq8pCG7DEBiApuvTj4NQBYflG1wwQ1ALMIaiA5EDkC6q1xdtsUOQP0TrQz9RQ9AwJt1X4HED0Dca/jCdiAQQCn33U98XRBA",
          "dtype": "f8"
         },
         "yaxis": "y"
        },
        {
         "marker": {
          "color": "red",
          "size": 7
         },
         "mode": "markers",
         "name": "GD Path",
         "type": "scatter",
         "x": [
          -1.5
         ],
         "xaxis": "x",
         "y": [
          2.1849712159842882
         ],
         "yaxis": "y"
        },
        {
         "marker": {
          "color": "red",
          "size": 7
         },
         "mode": "markers+lines",
         "name": "Loss",
         "type": "scatter",
         "x": [],
         "xaxis": "x2",
         "y": [],
         "yaxis": "y2"
        }
       ],
       "frames": [
        {
         "data": [
          {
           "type": "scatter",
           "x": {
            "bdata": "AAAAAAAAAMAkgjg6NMn/v0gEcXRokv+/bIaprpxb/7+QCOLo0CT/v7SKGiMF7v6/2AxTXTm3/r/8jouXbYD+vyARxNGhSf6/RJP8C9YS/r9oFTVGCtz9v4yXbYA+pf2/sBmmunJu/b/Um970pjf9v/gdFy/bAP2/G6BPaQ/K/L8/IoijQ5P8v2OkwN13XPy/hyb5F6wl/L+rqDFS4O77v88qaowUuPu/86yixkiB+78XL9sAfUr7vzuxEzuxE/u/XzNMdeXc+r+DtYSvGab6v6c3velNb/q/y7n1I4I4+r/vOy5etgH6vxO+Zpjqyvm/N0Cf0h6U+b9bwtcMU135v39EEEeHJvm/o8ZIgbvv+L/HSIG777j4v+vKufUjgvi/Dk3yL1hL+L8yzypqjBT4v1ZRY6TA3fe/etOb3vSm97+eVdQYKXD3v8LXDFNdOfe/5llFjZEC978K3H3Hxcv2vy5etgH6lPa/UuDuOy5e9r92Yid2Yif2v5rkX7CW8PW/vmaY6sq59b/i6NAk/4L1vwZrCV8zTPW/Ku1BmWcV9b9Ob3rTm970v3Lxsg3Qp/S/lnPrRwRx9L+69SOCODr0v953XLxsA/S/AvqU9qDM878mfM0w1ZXzv0r+BWsJX/O/boA+pT0o87+SAnffcfHyv7aErxmmuvK/2gboU9qD8r/+iCCODk3yvyILWchCFvK/Ro2RAnff8b9qD8o8q6jxv46RAnffcfG/shM7sRM78b/WlXPrRwTxv/kXrCV8zfC/HZrkX7CW8L9BHB2a5F/wv2WeVdQYKfC/EkEcHZrk779aRY2RAnfvv6JJ/gVrCe+/6k1vetOb7r8yUuDuOy7uv3pWUWOkwO2/wlrC1wxT7b8KXzNMdeXsv1JjpMDdd+y/mmcVNUYK7L/ia4aprpzrvypw9x0XL+u/cnRokn/B6r+6eNkG6FPqvwJ9SntQ5um/SIG777h46b+QhSxkIQvpv9iJndiJnei/II4OTfIv6L9okn/BWsLnv7CW8DXDVOe/+Jphqivn5r9An9IelHnmv4ijQ5P8C+a/0Ke0B2We5b8YrCV8zTDlv2CwlvA1w+S/qLQHZZ5V5L/wuHjZBujjvzi96U1veuO/gMFawtcM47/Ixcs2QJ/ivxDKPKuoMeK/WM6tHxHE4b+g0h6UeVbhv+jWjwji6OC/MNsAfUp74L9433Hxsg3gv4DHxcs2QN+/ENCntAdl3r+g2Imd2Indvyzha4aprty/vOlNb3rT279M8i9YS/jav9z6EUEcHdq/bAP0Ke1B2b/8C9YSvmbYv4wUuPuOi9e/HB2a5F+w1r+sJXzNMNXVvzwuXrYB+tS/zDZAn9Ie1L9cPyKIo0PTv+xHBHF0aNK/fFDmWUWN0b8MWchCFrLQvzjDVFfOrc+/WNQYKXD3zb945dz6EUHMv5j2oMyzisq/uAdlnlXUyL/YGClw9x3Hv/gp7UGZZ8W/GDuxEzuxw784THXl3PrBv1hdObd+RMC/4Nz6EUEcvb8g/4K1hK+5v2AhC1nIQra/oEOT/AvWsr/AyzZAn9Kuv0AQR4cm+ae/wFRXzq0fob+AMs8qaoyUvwDuvuPiZXu/AO6+4+Jlez+AMs8qaoyUP8BUV86tH6E/QBBHhyb5pz/AyzZAn9KuP6BDk/wL1rI/YCELWchCtj8g/4K1hK+5P+Dc+hFBHL0/UF05t35EwD8wTHXl3PrBPxA7sRM7scM/8CntQZlnxT/QGClw9x3HP7AHZZ5V1Mg/kPagzLOKyj9w5dz6EUHMP1DUGClw980/MMNUV86tzz8IWchCFrLQP3hQ5llFjdE/6EcEcXRo0j9YPyKIo0PTP8g2QJ/SHtQ/OC5etgH61D+oJXzNMNXVPxgdmuRfsNY/iBS4+46L1z/4C9YSvmbYP2gD9CntQdk/4PoRQRwd2j9Q8i9YS/jaP8DpTW9609s/MOFrhqmu3D+g2Imd2IndPxDQp7QHZd4/gMfFyzZA3z9433Hxsg3gPzDbAH1Ke+A/6NaPCOLo4D+g0h6UeVbhP1jOrR8RxOE/EMo8q6gx4j/Ixcs2QJ/iP4DBWsLXDOM/OL3pTW964z/wuHjZBujjP6i0B2WeVeQ/YLCW8DXD5D8YrCV8zTDlP9CntAdlnuU/iKNDk/wL5j9An9IelHnmP/iaYaor5+Y/sJbwNcNU5z9okn/BWsLnPyCODk3yL+g/2Imd2Imd6D+QhSxkIQvpP0iBu++4eOk/AH1Ke1Dm6T+4eNkG6FPqP3B0aJJ/weo/KHD3HRcv6z/ga4aprpzrP5hnFTVGCuw/UGOkwN137D8IXzNMdeXsP8BawtcMU+0/eFZRY6TA7T8wUuDuOy7uP+hNb3rTm+4/oEn+BWsJ7z9YRY2RAnfvPxBBHB2a5O8/ZJ5V1Bgp8D9AHB2a5F/wPxya5F+wlvA/+BesJXzN8D/UlXPrRwTxP7ATO7ETO/E/jpECd99x8T9qD8o8q6jxP0aNkQJ33/E/IgtZyEIW8j/+iCCODk3yP9oG6FPag/I/toSvGaa68j+SAnffcfHyP26APqU9KPM/Sv4Fawlf8z8mfM0w1ZXzPwL6lPagzPM/3ndcvGwD9D+69SOCODr0P5Zz60cEcfQ/cvGyDdCn9D9Ob3rTm970PyrtQZlnFfU/BmsJXzNM9T/i6NAk/4L1P75mmOrKufU/muRfsJbw9T92Yid2Yif2P1Lg7jsuXvY/Ll62AfqU9j8K3H3Hxcv2P+ZZRY2RAvc/wtcMU1059z+eVdQYKXD3P3rTm970pvc/VlFjpMDd9z8yzypqjBT4Pw5N8i9YS/g/6sq59SOC+D/GSIG777j4P6LGSIG77/g/fkQQR4cm+T9awtcMU135PzZAn9IelPk/Er5mmOrK+T/uOy5etgH6P8q59SOCOPo/pje96U1v+j+CtYSvGab6P14zTHXl3Po/OrETO7ET+z8WL9sAfUr7P/KsosZIgfs/zipqjBS4+z+qqDFS4O77P4Ym+ResJfw/ZKTA3Xdc/D9AIoijQ5P8PxygT2kPyvw/+B0XL9sA/T/Um970pjf9P7AZprpybv0/jJdtgD6l/T9oFTVGCtz9P0ST/AvWEv4/IBHE0aFJ/j/8jouXbYD+P9gMU105t/4/tIoaIwXu/j+QCOLo0CT/P2yGqa6cW/8/SARxdGiS/z8kgjg6NMn/PwAAAAAAAABA",
            "dtype": "f8"
           },
           "y": {
            "bdata": "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",
            "dtype": "f8"
           }
          },
          {
           "marker": {
            "color": "red",
            "size": 7
           },
           "type": "scatter",
           "x": {
            "bdata": "AAAAAAAA+L8=",
            "dtype": "f8"
           },
           "y": {
            "bdata": "utRaMNJ6AUA=",
            "dtype": "f8"
           }
          },
          {
           "marker": {
            "color": "red",
            "size": 7
           },
           "mode": "markers+lines",
           "type": "scatter",
           "x": {
            "bdata": "AA==",
            "dtype": "i1"
           },
           "y": {
            "bdata": "fvXa8da69j8=",
            "dtype": "f8"
           }
          }
         ],
         "name": "0"
        },
        {
         "data": [
          {
           "type": "scatter",
           "x": {
            "bdata": "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",
            "dtype": "f8"
           },
           "y": {
            "bdata": "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",
            "dtype": "f8"
           }
          },
          {
           "marker": {
            "color": "red",
            "size": 7
           },
           "type": "scatter",
           "x": {
            "bdata": "AAAAAAAA+L+NxBEmCPzxvw==",
            "dtype": "f8"
           },
           "y": {
            "bdata": "utRaMNJ6AUCQBG5BeMT1Pw==",
            "dtype": "f8"
           }
          },
          {
           "marker": {
            "color": "red",
            "size": 7
           },
           "mode": "markers+lines",
           "type": "scatter",
           "x": {
            "bdata": "AAE=",
            "dtype": "i1"
           },
           "y": {
            "bdata": "fvXa8da69j8LuuwX37bwPw==",
            "dtype": "f8"
           }
          }
         ],
         "name": "1"
        },
        {
         "data": [
          {
           "type": "scatter",
           "x": {
            "bdata": "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",
            "dtype": "f8"
           },
           "y": {
            "bdata": "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",
            "dtype": "f8"
           }
          },
          {
           "marker": {
            "color": "red",
            "size": 7
           },
           "type": "scatter",
           "x": {
            "bdata": "AAAAAAAA+L+NxBEmCPzxv9stydbxjO2/",
            "dtype": "f8"
           },
           "y": {
            "bdata": "utRaMNJ6AUCQBG5BeMT1P4Rb8u79ruo/",
            "dtype": "f8"
           }
          },
          {
           "marker": {
            "color": "red",
            "size": 7
           },
           "mode": "markers+lines",
           "type": "scatter",
           "x": {
            "bdata": "AAEC",
            "dtype": "i1"
           },
           "y": {
            "bdata": "fvXa8da69j8LuuwX37bwP9cYf7qfAus/",
            "dtype": "f8"
           }
          }
         ],
         "name": "2"
        },
        {
         "data": [
          {
           "type": "scatter",
           "x": {
            "bdata": "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",
            "dtype": "f8"
           },
           "y": {
            "bdata": "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",
            "dtype": "f8"
           }
          },
          {
           "marker": {
            "color": "red",
            "size": 7
           },
           "type": "scatter",
           "x": {
            "bdata": "AAAAAAAA+L+NxBEmCPzxv9stydbxjO2/3Oo5bYh/5L8=",
            "dtype": "f8"
           },
           "y": {
            "bdata": "utRaMNJ6AUCQBG5BeMT1P4Rb8u79ruo/OroeEpx62T8=",
            "dtype": "f8"
           }
          },
          {
           "marker": {
            "color": "red",
            "size": 7
           },
           "mode": "markers+lines",
           "type": "scatter",
           "x": {
            "bdata": "AAECAw==",
            "dtype": "i1"
           },
           "y": {
            "bdata": "fvXa8da69j8LuuwX37bwP9cYf7qfAus/2NXvUDb14T8=",
            "dtype": "f8"
           }
          }
         ],
         "name": "3"
        },
        {
         "data": [
          {
           "type": "scatter",
           "x": {
            "bdata": "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",
            "dtype": "f8"
           },
           "y": {
            "bdata": "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",
            "dtype": "f8"
           }
          },
          {
           "marker": {
            "color": "red",
            "size": 7
           },
           "type": "scatter",
           "x": {
            "bdata": "AAAAAAAA+L+NxBEmCPzxv9stydbxjO2/3Oo5bYh/5L/At3CHFpPjvw==",
            "dtype": "f8"
           },
           "y": {
            "bdata": "utRaMNJ6AUCQBG5BeMT1P4Rb8u79ruo/OroeEpx62T+EFOVzjwHZPw==",
            "dtype": "f8"
           }
          },
          {
           "marker": {
            "color": "red",
            "size": 7
           },
           "mode": "markers+lines",
           "type": "scatter",
           "x": {
            "bdata": "AAECAwQ=",
            "dtype": "i1"
           },
           "y": {
            "bdata": "fvXa8da69j8LuuwX37bwP9cYf7qfAus/2NXvUDb14T+8oiZrxAjhPw==",
            "dtype": "f8"
           }
          }
         ],
         "name": "4"
        },
        {
         "data": [
          {
           "type": "scatter",
           "x": {
            "bdata": "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",
            "dtype": "f8"
           },
           "y": {
            "bdata": "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",
            "dtype": "f8"
           }
          },
          {
           "marker": {
            "color": "red",
            "size": 7
           },
           "type": "scatter",
           "x": {
            "bdata": "AAAAAAAA+L+NxBEmCPzxv9stydbxjO2/3Oo5bYh/5L/At3CHFpPjv9tTaYjK0OK/",
            "dtype": "f8"
           },
           "y": {
            "bdata": "utRaMNJ6AUCQBG5BeMT1P4Rb8u79ruo/OroeEpx62T+EFOVzjwHZPxT7oExxo9g/",
            "dtype": "f8"
           }
          },
          {
           "marker": {
            "color": "red",
            "size": 7
           },
           "mode": "markers+lines",
           "type": "scatter",
           "x": {
            "bdata": "AAECAwQF",
            "dtype": "i1"
           },
           "y": {
            "bdata": "fvXa8da69j8LuuwX37bwP9cYf7qfAus/2NXvUDb14T+8oiZrxAjhP9c+H2x4RuA/",
            "dtype": "f8"
           }
          }
         ],
         "name": "5"
        },
        {
         "data": [
          {
           "type": "scatter",
           "x": {
            "bdata": "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",
            "dtype": "f8"
           },
           "y": {
            "bdata": "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",
            "dtype": "f8"
           }
          },
          {
           "marker": {
            "color": "red",
            "size": 7
           },
           "type": "scatter",
           "x": {
            "bdata": "AAAAAAAA+L+NxBEmCPzxv9stydbxjO2/3Oo5bYh/5L/At3CHFpPjv9tTaYjK0OK/+jNpq+f+4b8=",
            "dtype": "f8"
           },
           "y": {
            "bdata": "utRaMNJ6AUCQBG5BeMT1P4Rb8u79ruo/OroeEpx62T+EFOVzjwHZPxT7oExxo9g/kasSxnIp2D8=",
            "dtype": "f8"
           }
          },
          {
           "marker": {
            "color": "red",
            "size": 7
           },
           "mode": "markers+lines",
           "type": "scatter",
           "x": {
            "bdata": "AAECAwQFBg==",
            "dtype": "i1"
           },
           "y": {
            "bdata": "fvXa8da69j8LuuwX37bwP9cYf7qfAus/2NXvUDb14T+8oiZrxAjhP9c+H2x4RuA/6z0+Hivp3j8=",
            "dtype": "f8"
           }
          }
         ],
         "name": "6"
        },
        {
         "data": [
          {
           "type": "scatter",
           "x": {
            "bdata": "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",
            "dtype": "f8"
           },
           "y": {
            "bdata": "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",
            "dtype": "f8"
           }
          },
          {
           "marker": {
            "color": "red",
            "size": 7
           },
           "type": "scatter",
           "x": {
            "bdata": "AAAAAAAA+L+NxBEmCPzxv9stydbxjO2/3Oo5bYh/5L/At3CHFpPjv9tTaYjK0OK/+jNpq+f+4b8oaAz07Ozgvw==",
            "dtype": "f8"
           },
           "y": {
            "bdata": "utRaMNJ6AUCQBG5BeMT1P4Rb8u79ruo/OroeEpx62T+EFOVzjwHZPxT7oExxo9g/kasSxnIp2D+elua820TXPw==",
            "dtype": "f8"
           }
          },
          {
           "marker": {
            "color": "red",
            "size": 7
           },
           "mode": "markers+lines",
           "type": "scatter",
           "x": {
            "bdata": "AAECAwQFBgc=",
            "dtype": "i1"
           },
           "y": {
            "bdata": "fvXa8da69j8LuuwX37bwP9cYf7qfAus/2NXvUDb14T+8oiZrxAjhP9c+H2x4RuA/6z0+Hivp3j9HpoSvNcXcPw==",
            "dtype": "f8"
           }
          }
         ],
         "name": "7"
        },
        {
         "data": [
          {
           "type": "scatter",
           "x": {
            "bdata": "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",
            "dtype": "f8"
           },
           "y": {
            "bdata": "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",
            "dtype": "f8"
           }
          },
          {
           "marker": {
            "color": "red",
            "size": 7
           },
           "type": "scatter",
           "x": {
            "bdata": "AAAAAAAA+L+NxBEmCPzxv9stydbxjO2/3Oo5bYh/5L/At3CHFpPjv9tTaYjK0OK/+jNpq+f+4b8oaAz07OzgvxSgxc01kt6/",
            "dtype": "f8"
           },
           "y": {
            "bdata": "utRaMNJ6AUCQBG5BeMT1P4Rb8u79ruo/OroeEpx62T+EFOVzjwHZPxT7oExxo9g/kasSxnIp2D+elua820TXP7QwRLti/dQ/",
            "dtype": "f8"
           }
          },
          {
           "marker": {
            "color": "red",
            "size": 7
           },
           "mode": "markers+lines",
           "type": "scatter",
           "x": {
            "bdata": "AAECAwQFBgcI",
            "dtype": "i1"
           },
           "y": {
            "bdata": "fvXa8da69j8LuuwX37bwP9cYf7qfAus/2NXvUDb14T+8oiZrxAjhP9c+H2x4RuA/6z0+Hivp3j9HpoSvNcXcPwt2MZWRfdk/",
            "dtype": "f8"
           }
          }
         ],
         "name": "8"
        },
        {
         "data": [
          {
           "type": "scatter",
           "x": {
            "bdata": "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",
            "dtype": "f8"
           },
           "y": {
            "bdata": "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",
            "dtype": "f8"
           }
          },
          {
           "marker": {
            "color": "red",
            "size": 7
           },
           "type": "scatter",
           "x": {
            "bdata": "AAAAAAAA+L+NxBEmCPzxv9stydbxjO2/3Oo5bYh/5L/At3CHFpPjv9tTaYjK0OK/+jNpq+f+4b8oaAz07OzgvxSgxc01kt6/dojh01Pe2L8=",
            "dtype": "f8"
           },
           "y": {
            "bdata": "utRaMNJ6AUCQBG5BeMT1P4Rb8u79ruo/OroeEpx62T+EFOVzjwHZPxT7oExxo9g/kasSxnIp2D+elua820TXP7QwRLti/dQ/fPmPbfL+yz8=",
            "dtype": "f8"
           }
          },
          {
           "marker": {
            "color": "red",
            "size": 7
           },
           "mode": "markers+lines",
           "type": "scatter",
           "x": {
            "bdata": "AAECAwQFBgcICQ==",
            "dtype": "i1"
           },
           "y": {
            "bdata": "fvXa8da69j8LuuwX37bwP9cYf7qfAus/2NXvUDb14T+8oiZrxAjhP9c+H2x4RuA/6z0+Hivp3j9HpoSvNcXcPwt2MZWRfdk/bV5Nm6/J0z8=",
            "dtype": "f8"
           }
          }
         ],
         "name": "9"
        },
        {
         "data": [
          {
           "type": "scatter",
           "x": {
            "bdata": "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",
            "dtype": "f8"
           },
           "y": {
            "bdata": "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",
            "dtype": "f8"
           }
          },
          {
           "marker": {
            "color": "red",
            "size": 7
           },
           "type": "scatter",
           "x": {
            "bdata": "AAAAAAAA+L+NxBEmCPzxv9stydbxjO2/3Oo5bYh/5L/At3CHFpPjv9tTaYjK0OK/+jNpq+f+4b8oaAz07OzgvxSgxc01kt6/dojh01Pe2L9C4ImuZl/Ovw==",
            "dtype": "f8"
           },
           "y": {
            "bdata": "utRaMNJ6AUCQBG5BeMT1P4Rb8u79ruo/OroeEpx62T+EFOVzjwHZPxT7oExxo9g/kasSxnIp2D+elua820TXP7QwRLti/dQ/fPmPbfL+yz+w4sNushGLvw==",
            "dtype": "f8"
           }
          },
          {
           "marker": {
            "color": "red",
            "size": 7
           },
           "mode": "markers+lines",
           "type": "scatter",
           "x": {
            "bdata": "AAECAwQFBgcICQo=",
            "dtype": "i1"
           },
           "y": {
            "bdata": "fvXa8da69j8LuuwX37bwP9cYf7qfAus/2NXvUDb14T+8oiZrxAjhP9c+H2x4RuA/6z0+Hivp3j9HpoSvNcXcPwt2MZWRfdk/bV5Nm6/J0z8wjGE9HjbEPw==",
            "dtype": "f8"
           }
          }
         ],
         "name": "10"
        },
        {
         "data": [
          {
           "type": "scatter",
           "x": {
            "bdata": "AAAAAAAAAMAkgjg6NMn/v0gEcXRokv+/bIaprpxb/7+QCOLo0CT/v7SKGiMF7v6/2AxTXTm3/r/8jouXbYD+vyARxNGhSf6/RJP8C9YS/r9oFTVGCtz9v4yXbYA+pf2/sBmmunJu/b/Um970pjf9v/gdFy/bAP2/G6BPaQ/K/L8/IoijQ5P8v2OkwN13XPy/hyb5F6wl/L+rqDFS4O77v88qaowUuPu/86yixkiB+78XL9sAfUr7vzuxEzuxE/u/XzNMdeXc+r+DtYSvGab6v6c3velNb/q/y7n1I4I4+r/vOy5etgH6vxO+Zpjqyvm/N0Cf0h6U+b9bwtcMU135v39EEEeHJvm/o8ZIgbvv+L/HSIG777j4v+vKufUjgvi/Dk3yL1hL+L8yzypqjBT4v1ZRY6TA3fe/etOb3vSm97+eVdQYKXD3v8LXDFNdOfe/5llFjZEC978K3H3Hxcv2vy5etgH6lPa/UuDuOy5e9r92Yid2Yif2v5rkX7CW8PW/vmaY6sq59b/i6NAk/4L1vwZrCV8zTPW/Ku1BmWcV9b9Ob3rTm970v3Lxsg3Qp/S/lnPrRwRx9L+69SOCODr0v953XLxsA/S/AvqU9qDM878mfM0w1ZXzv0r+BWsJX/O/boA+pT0o87+SAnffcfHyv7aErxmmuvK/2gboU9qD8r/+iCCODk3yvyILWchCFvK/Ro2RAnff8b9qD8o8q6jxv46RAnffcfG/shM7sRM78b/WlXPrRwTxv/kXrCV8zfC/HZrkX7CW8L9BHB2a5F/wv2WeVdQYKfC/EkEcHZrk779aRY2RAnfvv6JJ/gVrCe+/6k1vetOb7r8yUuDuOy7uv3pWUWOkwO2/wlrC1wxT7b8KXzNMdeXsv1JjpMDdd+y/mmcVNUYK7L/ia4aprpzrvypw9x0XL+u/cnRokn/B6r+6eNkG6FPqvwJ9SntQ5um/SIG777h46b+QhSxkIQvpv9iJndiJnei/II4OTfIv6L9okn/BWsLnv7CW8DXDVOe/+Jphqivn5r9An9IelHnmv4ijQ5P8C+a/0Ke0B2We5b8YrCV8zTDlv2CwlvA1w+S/qLQHZZ5V5L/wuHjZBujjvzi96U1veuO/gMFawtcM47/Ixcs2QJ/ivxDKPKuoMeK/WM6tHxHE4b+g0h6UeVbhv+jWjwji6OC/MNsAfUp74L9433Hxsg3gv4DHxcs2QN+/ENCntAdl3r+g2Imd2Indvyzha4aprty/vOlNb3rT279M8i9YS/jav9z6EUEcHdq/bAP0Ke1B2b/8C9YSvmbYv4wUuPuOi9e/HB2a5F+w1r+sJXzNMNXVvzwuXrYB+tS/zDZAn9Ie1L9cPyKIo0PTv+xHBHF0aNK/fFDmWUWN0b8MWchCFrLQvzjDVFfOrc+/WNQYKXD3zb945dz6EUHMv5j2oMyzisq/uAdlnlXUyL/YGClw9x3Hv/gp7UGZZ8W/GDuxEzuxw784THXl3PrBv1hdObd+RMC/4Nz6EUEcvb8g/4K1hK+5v2AhC1nIQra/oEOT/AvWsr/AyzZAn9Kuv0AQR4cm+ae/wFRXzq0fob+AMs8qaoyUvwDuvuPiZXu/AO6+4+Jlez+AMs8qaoyUP8BUV86tH6E/QBBHhyb5pz/AyzZAn9KuP6BDk/wL1rI/YCELWchCtj8g/4K1hK+5P+Dc+hFBHL0/UF05t35EwD8wTHXl3PrBPxA7sRM7scM/8CntQZlnxT/QGClw9x3HP7AHZZ5V1Mg/kPagzLOKyj9w5dz6EUHMP1DUGClw980/MMNUV86tzz8IWchCFrLQP3hQ5llFjdE/6EcEcXRo0j9YPyKIo0PTP8g2QJ/SHtQ/OC5etgH61D+oJXzNMNXVPxgdmuRfsNY/iBS4+46L1z/4C9YSvmbYP2gD9CntQdk/4PoRQRwd2j9Q8i9YS/jaP8DpTW9609s/MOFrhqmu3D+g2Imd2IndPxDQp7QHZd4/gMfFyzZA3z9433Hxsg3gPzDbAH1Ke+A/6NaPCOLo4D+g0h6UeVbhP1jOrR8RxOE/EMo8q6gx4j/Ixcs2QJ/iP4DBWsLXDOM/OL3pTW964z/wuHjZBujjP6i0B2WeVeQ/YLCW8DXD5D8YrCV8zTDlP9CntAdlnuU/iKNDk/wL5j9An9IelHnmP/iaYaor5+Y/sJbwNcNU5z9okn/BWsLnPyCODk3yL+g/2Imd2Imd6D+QhSxkIQvpP0iBu++4eOk/AH1Ke1Dm6T+4eNkG6FPqP3B0aJJ/weo/KHD3HRcv6z/ga4aprpzrP5hnFTVGCuw/UGOkwN137D8IXzNMdeXsP8BawtcMU+0/eFZRY6TA7T8wUuDuOy7uP+hNb3rTm+4/oEn+BWsJ7z9YRY2RAnfvPxBBHB2a5O8/ZJ5V1Bgp8D9AHB2a5F/wPxya5F+wlvA/+BesJXzN8D/UlXPrRwTxP7ATO7ETO/E/jpECd99x8T9qD8o8q6jxP0aNkQJ33/E/IgtZyEIW8j/+iCCODk3yP9oG6FPag/I/toSvGaa68j+SAnffcfHyP26APqU9KPM/Sv4Fawlf8z8mfM0w1ZXzPwL6lPagzPM/3ndcvGwD9D+69SOCODr0P5Zz60cEcfQ/cvGyDdCn9D9Ob3rTm970PyrtQZlnFfU/BmsJXzNM9T/i6NAk/4L1P75mmOrKufU/muRfsJbw9T92Yid2Yif2P1Lg7jsuXvY/Ll62AfqU9j8K3H3Hxcv2P+ZZRY2RAvc/wtcMU1059z+eVdQYKXD3P3rTm970pvc/VlFjpMDd9z8yzypqjBT4Pw5N8i9YS/g/6sq59SOC+D/GSIG777j4P6LGSIG77/g/fkQQR4cm+T9awtcMU135PzZAn9IelPk/Er5mmOrK+T/uOy5etgH6P8q59SOCOPo/pje96U1v+j+CtYSvGab6P14zTHXl3Po/OrETO7ET+z8WL9sAfUr7P/KsosZIgfs/zipqjBS4+z+qqDFS4O77P4Ym+ResJfw/ZKTA3Xdc/D9AIoijQ5P8PxygT2kPyvw/+B0XL9sA/T/Um970pjf9P7AZprpybv0/jJdtgD6l/T9oFTVGCtz9P0ST/AvWEv4/IBHE0aFJ/j/8jouXbYD+P9gMU105t/4/tIoaIwXu/j+QCOLo0CT/P2yGqa6cW/8/SARxdGiS/z8kgjg6NMn/PwAAAAAAAABA",
            "dtype": "f8"
           },
           "y": {
            "bdata": "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",
            "dtype": "f8"
           }
          },
          {
           "marker": {
            "color": "red",
            "size": 7
           },
           "type": "scatter",
           "x": {
            "bdata": "AAAAAAAA+L+NxBEmCPzxv9stydbxjO2/3Oo5bYh/5L/At3CHFpPjv9tTaYjK0OK/+jNpq+f+4b8oaAz07OzgvxSgxc01kt6/dojh01Pe2L9C4ImuZl/Ov8D7cRLyMb6/",
            "dtype": "f8"
           },
           "y": {
            "bdata": "utRaMNJ6AUCQBG5BeMT1P4Rb8u79ruo/OroeEpx62T+EFOVzjwHZPxT7oExxo9g/kasSxnIp2D+elua820TXP7QwRLti/dQ/fPmPbfL+yz+w4sNushGLvzhE+sJ+GrS/",
            "dtype": "f8"
           }
          },
          {
           "marker": {
            "color": "red",
            "size": 7
           },
           "mode": "markers+lines",
           "type": "scatter",
           "x": {
            "bdata": "AAECAwQFBgcICQoL",
            "dtype": "i1"
           },
           "y": {
            "bdata": "fvXa8da69j8LuuwX37bwP9cYf7qfAus/2NXvUDb14T+8oiZrxAjhP9c+H2x4RuA/6z0+Hivp3j9HpoSvNcXcPwt2MZWRfdk/bV5Nm6/J0z8wjGE9HjbEPzqnQmDCvqM/",
            "dtype": "f8"
           }
          }
         ],
         "name": "11"
        },
        {
         "data": [
          {
           "type": "scatter",
           "x": {
            "bdata": "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",
            "dtype": "f8"
           },
           "y": {
            "bdata": "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",
            "dtype": "f8"
           }
          },
          {
           "marker": {
            "color": "red",
            "size": 7
           },
           "type": "scatter",
           "x": {
            "bdata": "AAAAAAAA+L+NxBEmCPzxv9stydbxjO2/3Oo5bYh/5L/At3CHFpPjv9tTaYjK0OK/+jNpq+f+4b8oaAz07OzgvxSgxc01kt6/dojh01Pe2L9C4ImuZl/Ov8D7cRLyMb6/iGslIbj1wL8=",
            "dtype": "f8"
           },
           "y": {
            "bdata": "utRaMNJ6AUCQBG5BeMT1P4Rb8u79ruo/OroeEpx62T+EFOVzjwHZPxT7oExxo9g/kasSxnIp2D+elua820TXP7QwRLti/dQ/fPmPbfL+yz+w4sNushGLvzhE+sJ+GrS/QLhIOQ9WtL8=",
            "dtype": "f8"
           }
          },
          {
           "marker": {
            "color": "red",
            "size": 7
           },
           "mode": "markers+lines",
           "type": "scatter",
           "x": {
            "bdata": "AAECAwQFBgcICQoLDA==",
            "dtype": "i1"
           },
           "y": {
            "bdata": "fvXa8da69j8LuuwX37bwP9cYf7qfAus/2NXvUDb14T+8oiZrxAjhP9c+H2x4RuA/6z0+Hivp3j9HpoSvNcXcPwt2MZWRfdk/bV5Nm6/J0z8wjGE9HjbEPzqnQmDCvqM/2l30v74xqz8=",
            "dtype": "f8"
           }
          }
         ],
         "name": "12"
        },
        {
         "data": [
          {
           "type": "scatter",
           "x": {
            "bdata": "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",
            "dtype": "f8"
           },
           "y": {
            "bdata": "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",
            "dtype": "f8"
           }
          },
          {
           "marker": {
            "color": "red",
            "size": 7
           },
           "type": "scatter",
           "x": {
            "bdata": "AAAAAAAA+L+NxBEmCPzxv9stydbxjO2/3Oo5bYh/5L/At3CHFpPjv9tTaYjK0OK/+jNpq+f+4b8oaAz07OzgvxSgxc01kt6/dojh01Pe2L9C4ImuZl/Ov8D7cRLyMb6/iGslIbj1wL/qRR81wa7Avw==",
            "dtype": "f8"
           },
           "y": {
            "bdata": "utRaMNJ6AUCQBG5BeMT1P4Rb8u79ruo/OroeEpx62T+EFOVzjwHZPxT7oExxo9g/kasSxnIp2D+elua820TXP7QwRLti/dQ/fPmPbfL+yz+w4sNushGLvzhE+sJ+GrS/QLhIOQ9WtL/begSBVle0vw==",
            "dtype": "f8"
           }
          },
          {
           "marker": {
            "color": "red",
            "size": 7
           },
           "mode": "markers+lines",
           "type": "scatter",
           "x": {
            "bdata": "AAECAwQFBgcICQoLDA0=",
            "dtype": "i1"
           },
           "y": {
            "bdata": "fvXa8da69j8LuuwX37bwP9cYf7qfAus/2NXvUDb14T+8oiZrxAjhP9c+H2x4RuA/6z0+Hivp3j9HpoSvNcXcPwt2MZWRfdk/bV5Nm6/J0z8wjGE9HjbEPzqnQmDCvqM/2l30v74xqz9ix9sP4xWqPw==",
            "dtype": "f8"
           }
          }
         ],
         "name": "13"
        },
        {
         "data": [
          {
           "type": "scatter",
           "x": {
            "bdata": "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",
            "dtype": "f8"
           },
           "y": {
            "bdata": "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",
            "dtype": "f8"
           }
          },
          {
           "marker": {
            "color": "red",
            "size": 7
           },
           "type": "scatter",
           "x": {
            "bdata": "AAAAAAAA+L+NxBEmCPzxv9stydbxjO2/3Oo5bYh/5L/At3CHFpPjv9tTaYjK0OK/+jNpq+f+4b8oaAz07OzgvxSgxc01kt6/dojh01Pe2L9C4ImuZl/Ov8D7cRLyMb6/iGslIbj1wL/qRR81wa7AvyfkukOfusC/",
            "dtype": "f8"
           },
           "y": {
            "bdata": "utRaMNJ6AUCQBG5BeMT1P4Rb8u79ruo/OroeEpx62T+EFOVzjwHZPxT7oExxo9g/kasSxnIp2D+elua820TXP7QwRLti/dQ/fPmPbfL+yz+w4sNushGLvzhE+sJ+GrS/QLhIOQ9WtL/begSBVle0vzXVo7FfV7S/",
            "dtype": "f8"
           }
          },
          {
           "marker": {
            "color": "red",
            "size": 7
           },
           "mode": "markers+lines",
           "type": "scatter",
           "x": {
            "bdata": "AAECAwQFBgcICQoLDA0O",
            "dtype": "i1"
           },
           "y": {
            "bdata": "fvXa8da69j8LuuwX37bwP9cYf7qfAus/2NXvUDb14T+8oiZrxAjhP9c+H2x4RuA/6z0+Hivp3j9HpoSvNcXcPwt2MZWRfdk/bV5Nm6/J0z8wjGE9HjbEPzqnQmDCvqM/2l30v74xqz9ix9sP4xWqP1ZASkpbRao/",
            "dtype": "f8"
           }
          }
         ],
         "name": "14"
        }
       ],
       "layout": {
        "annotations": [
         {
          "font": {
           "size": 16
          },
          "showarrow": false,
          "text": "Gradient Descent Path",
          "x": 0.225,
          "xanchor": "center",
          "xref": "paper",
          "y": 1,
          "yanchor": "bottom",
          "yref": "paper"
         },
         {
          "font": {
           "size": 16
          },
          "showarrow": false,
          "text": "Loss Curve",
          "x": 0.775,
          "xanchor": "center",
          "xref": "paper",
          "y": 1,
          "yanchor": "bottom",
          "yref": "paper"
         }
        ],
        "height": 700,
        "showlegend": false,
        "sliders": [
         {
          "currentvalue": {
           "prefix": "Iteration: "
          },
          "steps": [
           {
            "args": [
             [
              "0"
             ],
             {
              "frame": {
               "duration": 0,
               "redraw": true
              },
              "mode": "immediate"
             }
            ],
            "label": "0",
            "method": "animate"
           },
           {
            "args": [
             [
              "1"
             ],
             {
              "frame": {
               "duration": 0,
               "redraw": true
              },
              "mode": "immediate"
             }
            ],
            "label": "1",
            "method": "animate"
           },
           {
            "args": [
             [
              "2"
             ],
             {
              "frame": {
               "duration": 0,
               "redraw": true
              },
              "mode": "immediate"
             }
            ],
            "label": "2",
            "method": "animate"
           },
           {
            "args": [
             [
              "3"
             ],
             {
              "frame": {
               "duration": 0,
               "redraw": true
              },
              "mode": "immediate"
             }
            ],
            "label": "3",
            "method": "animate"
           },
           {
            "args": [
             [
              "4"
             ],
             {
              "frame": {
               "duration": 0,
               "redraw": true
              },
              "mode": "immediate"
             }
            ],
            "label": "4",
            "method": "animate"
           },
           {
            "args": [
             [
              "5"
             ],
             {
              "frame": {
               "duration": 0,
               "redraw": true
              },
              "mode": "immediate"
             }
            ],
            "label": "5",
            "method": "animate"
           },
           {
            "args": [
             [
              "6"
             ],
             {
              "frame": {
               "duration": 0,
               "redraw": true
              },
              "mode": "immediate"
             }
            ],
            "label": "6",
            "method": "animate"
           },
           {
            "args": [
             [
              "7"
             ],
             {
              "frame": {
               "duration": 0,
               "redraw": true
              },
              "mode": "immediate"
             }
            ],
            "label": "7",
            "method": "animate"
           },
           {
            "args": [
             [
              "8"
             ],
             {
              "frame": {
               "duration": 0,
               "redraw": true
              },
              "mode": "immediate"
             }
            ],
            "label": "8",
            "method": "animate"
           },
           {
            "args": [
             [
              "9"
             ],
             {
              "frame": {
               "duration": 0,
               "redraw": true
              },
              "mode": "immediate"
             }
            ],
            "label": "9",
            "method": "animate"
           },
           {
            "args": [
             [
              "10"
             ],
             {
              "frame": {
               "duration": 0,
               "redraw": true
              },
              "mode": "immediate"
             }
            ],
            "label": "10",
            "method": "animate"
           },
           {
            "args": [
             [
              "11"
             ],
             {
              "frame": {
               "duration": 0,
               "redraw": true
              },
              "mode": "immediate"
             }
            ],
            "label": "11",
            "method": "animate"
           },
           {
            "args": [
             [
              "12"
             ],
             {
              "frame": {
               "duration": 0,
               "redraw": true
              },
              "mode": "immediate"
             }
            ],
            "label": "12",
            "method": "animate"
           },
           {
            "args": [
             [
              "13"
             ],
             {
              "frame": {
               "duration": 0,
               "redraw": true
              },
              "mode": "immediate"
             }
            ],
            "label": "13",
            "method": "animate"
           },
           {
            "args": [
             [
              "14"
             ],
             {
              "frame": {
               "duration": 0,
               "redraw": true
              },
              "mode": "immediate"
             }
            ],
            "label": "14",
            "method": "animate"
           }
          ],
          "transition": {
           "duration": 200
          },
          "x": 0,
          "y": -0.2
         }
        ],
        "template": {
         "data": {
          "bar": [
           {
            "error_x": {
             "color": "#2a3f5f"
            },
            "error_y": {
             "color": "#2a3f5f"
            },
            "marker": {
             "line": {
              "color": "#E5ECF6",
              "width": 0.5
             },
             "pattern": {
              "fillmode": "overlay",
              "size": 10,
              "solidity": 0.2
             }
            },
            "type": "bar"
           }
          ],
          "barpolar": [
           {
            "marker": {
             "line": {
              "color": "#E5ECF6",
              "width": 0.5
             },
             "pattern": {
              "fillmode": "overlay",
              "size": 10,
              "solidity": 0.2
             }
            },
            "type": "barpolar"
           }
          ],
          "carpet": [
           {
            "aaxis": {
             "endlinecolor": "#2a3f5f",
             "gridcolor": "white",
             "linecolor": "white",
             "minorgridcolor": "white",
             "startlinecolor": "#2a3f5f"
            },
            "baxis": {
             "endlinecolor": "#2a3f5f",
             "gridcolor": "white",
             "linecolor": "white",
             "minorgridcolor": "white",
             "startlinecolor": "#2a3f5f"
            },
            "type": "carpet"
           }
          ],
          "choropleth": [
           {
            "colorbar": {
             "outlinewidth": 0,
             "ticks": ""
            },
            "type": "choropleth"
           }
          ],
          "contour": [
           {
            "colorbar": {
             "outlinewidth": 0,
             "ticks": ""
            },
            "colorscale": [
             [
              0,
              "#0d0887"
             ],
             [
              0.1111111111111111,
              "#46039f"
             ],
             [
              0.2222222222222222,
              "#7201a8"
             ],
             [
              0.3333333333333333,
              "#9c179e"
             ],
             [
              0.4444444444444444,
              "#bd3786"
             ],
             [
              0.5555555555555556,
              "#d8576b"
             ],
             [
              0.6666666666666666,
              "#ed7953"
             ],
             [
              0.7777777777777778,
              "#fb9f3a"
             ],
             [
              0.8888888888888888,
              "#fdca26"
             ],
             [
              1,
              "#f0f921"
             ]
            ],
            "type": "contour"
           }
          ],
          "contourcarpet": [
           {
            "colorbar": {
             "outlinewidth": 0,
             "ticks": ""
            },
            "type": "contourcarpet"
           }
          ],
          "heatmap": [
           {
            "colorbar": {
             "outlinewidth": 0,
             "ticks": ""
            },
            "colorscale": [
             [
              0,
              "#0d0887"
             ],
             [
              0.1111111111111111,
              "#46039f"
             ],
             [
              0.2222222222222222,
              "#7201a8"
             ],
             [
              0.3333333333333333,
              "#9c179e"
             ],
             [
              0.4444444444444444,
              "#bd3786"
             ],
             [
              0.5555555555555556,
              "#d8576b"
             ],
             [
              0.6666666666666666,
              "#ed7953"
             ],
             [
              0.7777777777777778,
              "#fb9f3a"
             ],
             [
              0.8888888888888888,
              "#fdca26"
             ],
             [
              1,
              "#f0f921"
             ]
            ],
            "type": "heatmap"
           }
          ],
          "histogram": [
           {
            "marker": {
             "pattern": {
              "fillmode": "overlay",
              "size": 10,
              "solidity": 0.2
             }
            },
            "type": "histogram"
           }
          ],
          "histogram2d": [
           {
            "colorbar": {
             "outlinewidth": 0,
             "ticks": ""
            },
            "colorscale": [
             [
              0,
              "#0d0887"
             ],
             [
              0.1111111111111111,
              "#46039f"
             ],
             [
              0.2222222222222222,
              "#7201a8"
             ],
             [
              0.3333333333333333,
              "#9c179e"
             ],
             [
              0.4444444444444444,
              "#bd3786"
             ],
             [
              0.5555555555555556,
              "#d8576b"
             ],
             [
              0.6666666666666666,
              "#ed7953"
             ],
             [
              0.7777777777777778,
              "#fb9f3a"
             ],
             [
              0.8888888888888888,
              "#fdca26"
             ],
             [
              1,
              "#f0f921"
             ]
            ],
            "type": "histogram2d"
           }
          ],
          "histogram2dcontour": [
           {
            "colorbar": {
             "outlinewidth": 0,
             "ticks": ""
            },
            "colorscale": [
             [
              0,
              "#0d0887"
             ],
             [
              0.1111111111111111,
              "#46039f"
             ],
             [
              0.2222222222222222,
              "#7201a8"
             ],
             [
              0.3333333333333333,
              "#9c179e"
             ],
             [
              0.4444444444444444,
              "#bd3786"
             ],
             [
              0.5555555555555556,
              "#d8576b"
             ],
             [
              0.6666666666666666,
              "#ed7953"
             ],
             [
              0.7777777777777778,
              "#fb9f3a"
             ],
             [
              0.8888888888888888,
              "#fdca26"
             ],
             [
              1,
              "#f0f921"
             ]
            ],
            "type": "histogram2dcontour"
           }
          ],
          "mesh3d": [
           {
            "colorbar": {
             "outlinewidth": 0,
             "ticks": ""
            },
            "type": "mesh3d"
           }
          ],
          "parcoords": [
           {
            "line": {
             "colorbar": {
              "outlinewidth": 0,
              "ticks": ""
             }
            },
            "type": "parcoords"
           }
          ],
          "pie": [
           {
            "automargin": true,
            "type": "pie"
           }
          ],
          "scatter": [
           {
            "fillpattern": {
             "fillmode": "overlay",
             "size": 10,
             "solidity": 0.2
            },
            "type": "scatter"
           }
          ],
          "scatter3d": [
           {
            "line": {
             "colorbar": {
              "outlinewidth": 0,
              "ticks": ""
             }
            },
            "marker": {
             "colorbar": {
              "outlinewidth": 0,
              "ticks": ""
             }
            },
            "type": "scatter3d"
           }
          ],
          "scattercarpet": [
           {
            "marker": {
             "colorbar": {
              "outlinewidth": 0,
              "ticks": ""
             }
            },
            "type": "scattercarpet"
           }
          ],
          "scattergeo": [
           {
            "marker": {
             "colorbar": {
              "outlinewidth": 0,
              "ticks": ""
             }
            },
            "type": "scattergeo"
           }
          ],
          "scattergl": [
           {
            "marker": {
             "colorbar": {
              "outlinewidth": 0,
              "ticks": ""
             }
            },
            "type": "scattergl"
           }
          ],
          "scattermap": [
           {
            "marker": {
             "colorbar": {
              "outlinewidth": 0,
              "ticks": ""
             }
            },
            "type": "scattermap"
           }
          ],
          "scattermapbox": [
           {
            "marker": {
             "colorbar": {
              "outlinewidth": 0,
              "ticks": ""
             }
            },
            "type": "scattermapbox"
           }
          ],
          "scatterpolar": [
           {
            "marker": {
             "colorbar": {
              "outlinewidth": 0,
              "ticks": ""
             }
            },
            "type": "scatterpolar"
           }
          ],
          "scatterpolargl": [
           {
            "marker": {
             "colorbar": {
              "outlinewidth": 0,
              "ticks": ""
             }
            },
            "type": "scatterpolargl"
           }
          ],
          "scatterternary": [
           {
            "marker": {
             "colorbar": {
              "outlinewidth": 0,
              "ticks": ""
             }
            },
            "type": "scatterternary"
           }
          ],
          "surface": [
           {
            "colorbar": {
             "outlinewidth": 0,
             "ticks": ""
            },
            "colorscale": [
             [
              0,
              "#0d0887"
             ],
             [
              0.1111111111111111,
              "#46039f"
             ],
             [
              0.2222222222222222,
              "#7201a8"
             ],
             [
              0.3333333333333333,
              "#9c179e"
             ],
             [
              0.4444444444444444,
              "#bd3786"
             ],
             [
              0.5555555555555556,
              "#d8576b"
             ],
             [
              0.6666666666666666,
              "#ed7953"
             ],
             [
              0.7777777777777778,
              "#fb9f3a"
             ],
             [
              0.8888888888888888,
              "#fdca26"
             ],
             [
              1,
              "#f0f921"
             ]
            ],
            "type": "surface"
           }
          ],
          "table": [
           {
            "cells": {
             "fill": {
              "color": "#EBF0F8"
             },
             "line": {
              "color": "white"
             }
            },
            "header": {
             "fill": {
              "color": "#C8D4E3"
             },
             "line": {
              "color": "white"
             }
            },
            "type": "table"
           }
          ]
         },
         "layout": {
          "annotationdefaults": {
           "arrowcolor": "#2a3f5f",
           "arrowhead": 0,
           "arrowwidth": 1
          },
          "autotypenumbers": "strict",
          "coloraxis": {
           "colorbar": {
            "outlinewidth": 0,
            "ticks": ""
           }
          },
          "colorscale": {
           "diverging": [
            [
             0,
             "#8e0152"
            ],
            [
             0.1,
             "#c51b7d"
            ],
            [
             0.2,
             "#de77ae"
            ],
            [
             0.3,
             "#f1b6da"
            ],
            [
             0.4,
             "#fde0ef"
            ],
            [
             0.5,
             "#f7f7f7"
            ],
            [
             0.6,
             "#e6f5d0"
            ],
            [
             0.7,
             "#b8e186"
            ],
            [
             0.8,
             "#7fbc41"
            ],
            [
             0.9,
             "#4d9221"
            ],
            [
             1,
             "#276419"
            ]
           ],
           "sequential": [
            [
             0,
             "#0d0887"
            ],
            [
             0.1111111111111111,
             "#46039f"
            ],
            [
             0.2222222222222222,
             "#7201a8"
            ],
            [
             0.3333333333333333,
             "#9c179e"
            ],
            [
             0.4444444444444444,
             "#bd3786"
            ],
            [
             0.5555555555555556,
             "#d8576b"
            ],
            [
             0.6666666666666666,
             "#ed7953"
            ],
            [
             0.7777777777777778,
             "#fb9f3a"
            ],
            [
             0.8888888888888888,
             "#fdca26"
            ],
            [
             1,
             "#f0f921"
            ]
           ],
           "sequentialminus": [
            [
             0,
             "#0d0887"
            ],
            [
             0.1111111111111111,
             "#46039f"
            ],
            [
             0.2222222222222222,
             "#7201a8"
            ],
            [
             0.3333333333333333,
             "#9c179e"
            ],
            [
             0.4444444444444444,
             "#bd3786"
            ],
            [
             0.5555555555555556,
             "#d8576b"
            ],
            [
             0.6666666666666666,
             "#ed7953"
            ],
            [
             0.7777777777777778,
             "#fb9f3a"
            ],
            [
             0.8888888888888888,
             "#fdca26"
            ],
            [
             1,
             "#f0f921"
            ]
           ]
          },
          "colorway": [
           "#636efa",
           "#EF553B",
           "#00cc96",
           "#ab63fa",
           "#FFA15A",
           "#19d3f3",
           "#FF6692",
           "#B6E880",
           "#FF97FF",
           "#FECB52"
          ],
          "font": {
           "color": "#2a3f5f"
          },
          "geo": {
           "bgcolor": "white",
           "lakecolor": "white",
           "landcolor": "#E5ECF6",
           "showlakes": true,
           "showland": true,
           "subunitcolor": "white"
          },
          "hoverlabel": {
           "align": "left"
          },
          "hovermode": "closest",
          "mapbox": {
           "style": "light"
          },
          "paper_bgcolor": "white",
          "plot_bgcolor": "#E5ECF6",
          "polar": {
           "angularaxis": {
            "gridcolor": "white",
            "linecolor": "white",
            "ticks": ""
           },
           "bgcolor": "#E5ECF6",
           "radialaxis": {
            "gridcolor": "white",
            "linecolor": "white",
            "ticks": ""
           }
          },
          "scene": {
           "xaxis": {
            "backgroundcolor": "#E5ECF6",
            "gridcolor": "white",
            "gridwidth": 2,
            "linecolor": "white",
            "showbackground": true,
            "ticks": "",
            "zerolinecolor": "white"
           },
           "yaxis": {
            "backgroundcolor": "#E5ECF6",
            "gridcolor": "white",
            "gridwidth": 2,
            "linecolor": "white",
            "showbackground": true,
            "ticks": "",
            "zerolinecolor": "white"
           },
           "zaxis": {
            "backgroundcolor": "#E5ECF6",
            "gridcolor": "white",
            "gridwidth": 2,
            "linecolor": "white",
            "showbackground": true,
            "ticks": "",
            "zerolinecolor": "white"
           }
          },
          "shapedefaults": {
           "line": {
            "color": "#2a3f5f"
           }
          },
          "ternary": {
           "aaxis": {
            "gridcolor": "white",
            "linecolor": "white",
            "ticks": ""
           },
           "baxis": {
            "gridcolor": "white",
            "linecolor": "white",
            "ticks": ""
           },
           "bgcolor": "#E5ECF6",
           "caxis": {
            "gridcolor": "white",
            "linecolor": "white",
            "ticks": ""
           }
          },
          "title": {
           "x": 0.05
          },
          "xaxis": {
           "automargin": true,
           "gridcolor": "white",
           "linecolor": "white",
           "ticks": "",
           "title": {
            "standoff": 15
           },
           "zerolinecolor": "white",
           "zerolinewidth": 2
          },
          "yaxis": {
           "automargin": true,
           "gridcolor": "white",
           "linecolor": "white",
           "ticks": "",
           "title": {
            "standoff": 15
           },
           "zerolinecolor": "white",
           "zerolinewidth": 2
          }
         }
        },
        "title": {
         "text": "Gradient Descent Animation"
        },
        "updatemenus": [
         {
          "buttons": [
           {
            "args": [
             null,
             {
              "frame": {
               "duration": 600,
               "redraw": true
              },
              "fromcurrent": true,
              "transition": {
               "duration": 200
              }
             }
            ],
            "label": "Play",
            "method": "animate"
           },
           {
            "args": [
             [
              null
             ],
             {
              "frame": {
               "duration": 0,
               "redraw": false
              },
              "mode": "immediate",
              "transition": {
               "duration": 0
              }
             }
            ],
            "label": "Pause",
            "method": "animate"
           }
          ],
          "showactive": false,
          "type": "buttons"
         }
        ],
        "xaxis": {
         "anchor": "y",
         "domain": [
          0,
          0.45
         ],
         "range": [
          -2.2,
          2.2
         ],
         "title": {
          "text": "x"
         }
        },
        "xaxis2": {
         "anchor": "y2",
         "domain": [
          0.55,
          1
         ],
         "range": [
          -1,
          15
         ],
         "title": {
          "text": "Iteration"
         }
        },
        "yaxis": {
         "anchor": "x",
         "domain": [
          0,
          1
         ],
         "range": [
          -0.37938485646505504,
          4.391294525072762
         ],
         "title": {
          "text": "f(x)"
         }
        },
        "yaxis2": {
         "anchor": "x2",
         "domain": [
          0,
          1
         ],
         "range": [
          -0.1,
          1.520615143534945
         ],
         "title": {
          "text": "Loss"
         }
        }
       }
      }
     },
     "metadata": {},
     "output_type": "display_data"
    }
   ],
   "source": [
    "#GD.plot_iterations_and_loss()"
   ]
  },
  {
   "cell_type": "code",
   "execution_count": 7,
   "id": "08769a4c",
   "metadata": {},
   "outputs": [],
   "source": [
    "match_elements = {'aₙ': 'a_n', \n",
    "                  '∇f(': 'self.grad_f(', \n",
    "                  'f(' : 'self.f(', \n",
    "                  ')' : ')', \n",
    "                  'η': 'self.eta', \n",
    "                  '+': '+', \n",
    "                  '-': '-', \n",
    "                  '÷' : '/', \n",
    "                  '⨉': '*'}\n",
    "\n",
    "def extract_guessed_formula(string_formula):\n",
    "    assert len(string_formula.split('(')) == len(string_formula.split(')')), \"Be careful! Your formula has unmatched parenthesis.\"\n",
    "    \n",
    "    elements = string_formula.split()\n",
    "    matched = [match_elements[element] for element in elements]\n",
    "    \n",
    "    return ' '.join(matched)\n",
    "    "
   ]
  },
  {
   "cell_type": "markdown",
   "id": "f6f9ec2e",
   "metadata": {},
   "source": [
    "## Finding the formula of gradient descent!\n",
    "\n",
    "### Oh no! You fell asleep during your Machine Learning class and were not able to write down the formula of this method called \"Gradient Descent\"… You remember a few things about it though:"
   ]
  },
  {
   "cell_type": "markdown",
   "id": "237e4b1f",
   "metadata": {},
   "source": [
    "- This method is used a lot in Machine Learning to find the minimum value of a function. \n",
    "- Gradient Descent is a recursive algorithm. It means that you need to provide an initial term (a₀ = …) and the iterative term (aₙ₊₁ = …).\n",
    "- This method uses the gradient (or derivative) of the function you are trying to find the minimum of.\n",
    "- It uses a fixed variable called the learning rate η to define how far"
   ]
  },
  {
   "cell_type": "markdown",
   "id": "af9fc6d5",
   "metadata": {},
   "source": [
    "### You have an exam in a few days!! You need to find this formula back at ALL COST!!!"
   ]
  },
  {
   "cell_type": "code",
   "execution_count": 8,
   "id": "c86e763a",
   "metadata": {},
   "outputs": [
    {
     "data": {
      "application/vnd.jupyter.widget-view+json": {
       "model_id": "70705bd7430f41029fc459c8c3d899fa",
       "version_major": 2,
       "version_minor": 0
      },
      "text/plain": [
       "VBox(children=(HBox(children=(BoundedFloatText(value=-1.5, description='a₀ = ', layout=Layout(width='25%'), ma…"
      ]
     },
     "metadata": {},
     "output_type": "display_data"
    }
   ],
   "source": [
    "import ipywidgets as widgets\n",
    "from IPython.display import display, clear_output\n",
    "import random as random\n",
    "\n",
    "# Words for the buttons\n",
    "words = [\"aₙ\", \"∇f(\", \"f(\", \")\", \"η\", \"+\", \"-\", \"÷\", \"⨉\"]\n",
    "\n",
    "# Dictionary to track how many times each button was clicked\n",
    "click_counts = {w: 0 for w in words}\n",
    "max_clicks = 2\n",
    "\n",
    "# Numeric box for initial term\n",
    "init_box = widgets.BoundedFloatText(\n",
    "    max = X_MAX,\n",
    "    min = X_MIN,\n",
    "    value=-1.5,\n",
    "    step = 0.1,\n",
    "    description=\"a₀ = \", \n",
    "    layout=widgets.Layout(width=\"25%\")\n",
    ")\n",
    "\n",
    "# Random button\n",
    "random_btn = widgets.Button(description=\"Random\", width=\"25%\")\n",
    "\n",
    "def set_random_init(b):\n",
    "    init_box.value = round(random.uniform(X_MIN, X_MAX), 1)\n",
    "\n",
    "random_btn.on_click(set_random_init)\n",
    "\n",
    "# Put init_box and random_btn side by side\n",
    "init_ui = widgets.HBox([init_box, random_btn])\n",
    "\n",
    "# Text area to display the resulting string\n",
    "output_box = widgets.Textarea(\n",
    "    value=\"\",\n",
    "    placeholder=\"Try and find the formula for gradient descent...\",\n",
    "    description=\"aₙ₊₁ = \",\n",
    "    layout=widgets.Layout(width=\"50%\", height=\"60px\")\n",
    ")\n",
    "\n",
    "# Function to update the text when a button is clicked\n",
    "def make_button_callback(word):\n",
    "    def on_click(b):\n",
    "        if click_counts[word] < max_clicks:\n",
    "            click_counts[word] += 1\n",
    "            output_box.value += (word + \" \")\n",
    "        else:\n",
    "            print(f\"'{word}' already used {max_clicks} times.\")\n",
    "    return on_click\n",
    "\n",
    "# Create word buttons and attach callbacks\n",
    "buttons = []\n",
    "for word in words:\n",
    "    btn = widgets.Button(description=word)\n",
    "    btn.on_click(make_button_callback(word))\n",
    "    buttons.append(btn)\n",
    "\n",
    "# Restart button\n",
    "restart_btn = widgets.Button(description=\"⌫ Erase all\", button_style=\"danger\")\n",
    "\n",
    "def restart_callback(b):\n",
    "    global click_counts\n",
    "    click_counts = {w: 0 for w in words}  # reset counts\n",
    "    output_box.value = \"\"  # clear text\n",
    "\n",
    "restart_btn.on_click(restart_callback)\n",
    "\n",
    "# Simulation button\n",
    "simulation_btn = widgets.Button(description=\"Let's try this one!\", button_style=\"success\")\n",
    "\n",
    "\n",
    "# def run_simulation(b):\n",
    "#     b.guess_formula = output_box.value\n",
    "#     print(\"Formula:\", b.guess_formula)\n",
    "#     GD = GradientDescent(X_MIN, X_MAX)\n",
    "#     GD.set_a_0(init_box.value)\n",
    "#     GD.set_eta(eta)\n",
    "#     df_gd = GD.gradient_descent()\n",
    "#     GD.plot_iterations_and_loss()\n",
    "    \n",
    "\n",
    "# simulation_btn.on_click(run_simulation)\n",
    "\n",
    "# # Layout: output box on top, then buttons, then restart button\n",
    "# ui = widgets.VBox([init_ui, output_box, widgets.HBox(buttons), restart_btn, simulation_btn])\n",
    "# display(ui)\n",
    "\n",
    "\n",
    "output_display = widgets.Output()\n",
    "\n",
    "def run_simulation(b):\n",
    "    with output_display:\n",
    "        clear_output()  # clear previous results\n",
    "        guess_formula = extract_guessed_formula(output_box.value)\n",
    "        #print(\"Formula:\", guess_formula)\n",
    "\n",
    "        GD = GradientDescent(X_MIN, X_MAX)\n",
    "        GD.set_a_0(init_box.value)\n",
    "        GD.set_eta(eta)\n",
    "        df_gd = GD.gradient_descent(guess_formula)\n",
    "        GD.plot_iterations_and_loss()\n",
    "\n",
    "simulation_btn.on_click(run_simulation)\n",
    "\n",
    "# Add output_display to your layout\n",
    "ui = widgets.VBox([\n",
    "    init_ui,\n",
    "    output_box,\n",
    "    widgets.HBox(buttons),\n",
    "    restart_btn,\n",
    "    simulation_btn,\n",
    "    output_display\n",
    "])\n",
    "\n",
    "display(ui)\n",
    "\n"
   ]
  }
 ],
 "metadata": {
  "kernelspec": {
   "display_name": ".venv",
   "language": "python",
   "name": "python3"
  },
  "language_info": {
   "codemirror_mode": {
    "name": "ipython",
    "version": 3
   },
   "file_extension": ".py",
   "mimetype": "text/x-python",
   "name": "python",
   "nbconvert_exporter": "python",
   "pygments_lexer": "ipython3",
   "version": "3.13.2"
  }
 },
 "nbformat": 4,
 "nbformat_minor": 5
}
