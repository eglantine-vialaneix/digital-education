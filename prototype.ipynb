{
 "cells": [
  {
   "cell_type": "code",
   "execution_count": 1,
   "id": "0ede837b",
   "metadata": {},
   "outputs": [],
   "source": [
    "#make sure to build your environment:\n",
    "\n",
    "#%pip install matplotlib numpy pandas plotly voila ipywidgets"
   ]
  },
  {
   "cell_type": "code",
   "execution_count": 2,
   "id": "4cf64772",
   "metadata": {},
   "outputs": [],
   "source": [
    "# ### To run this notebook in \"user mode\" use:\n",
    "\n",
    "# In terminal:\n",
    "# ```voila prototype.ipynb```\n",
    "# or\n",
    "# ```voila <path-to-this-notebook>```\n",
    "\n",
    "# ### This should open your browser and run the notebook without showing the code cells."
   ]
  },
  {
   "cell_type": "code",
   "execution_count": 3,
   "id": "e4378d9a",
   "metadata": {},
   "outputs": [],
   "source": [
    "#maybe use streamlit later on, for a cleaner interface"
   ]
  },
  {
   "cell_type": "code",
   "execution_count": 4,
   "id": "2a031d0f",
   "metadata": {},
   "outputs": [],
   "source": [
    "import matplotlib.pyplot as plt\n",
    "import numpy as np\n",
    "import pandas as pd\n",
    "import plotly.express as px\n",
    "import plotly.graph_objects as go\n",
    "from plotly.subplots import make_subplots\n",
    "\n",
    "from src.utils import GradientDescent"
   ]
  },
  {
   "cell_type": "code",
   "execution_count": 5,
   "id": "216f35e4",
   "metadata": {},
   "outputs": [],
   "source": [
    "X_MIN = -2\n",
    "X_MAX = 2\n",
    "# a_0 = -1.5\n",
    "eta = 0.1\n",
    "# #max_iter = 15\n",
    "# GD = GradientDescent(X_MIN, X_MAX)\n",
    "# GD.set_a_0(a_0)\n",
    "# GD.set_eta(eta)\n",
    "# df_gd = GD.gradient_descent()"
   ]
  },
  {
   "cell_type": "code",
   "execution_count": 6,
   "id": "f8b93a4d",
   "metadata": {},
   "outputs": [],
   "source": [
    "#GD.plot_iterations_and_loss()"
   ]
  },
  {
   "cell_type": "code",
   "execution_count": 7,
   "id": "08769a4c",
   "metadata": {},
   "outputs": [],
   "source": [
    "match_elements = {'aₙ': 'a_n', \n",
    "                  '∇f(': 'self.grad_f(', \n",
    "                  'f(' : 'self.f(', \n",
    "                  ')' : ')', \n",
    "                  'η': 'self.eta', \n",
    "                  '+': '+', \n",
    "                  '-': '-', \n",
    "                  '÷' : '/', \n",
    "                  '⨉': '*'}\n",
    "\n",
    "def extract_guessed_formula(string_formula):\n",
    "    assert len(string_formula.split('(')) == len(string_formula.split(')')), \"Be careful! Your formula has unmatched parenthesis.\"\n",
    "    \n",
    "    elements = string_formula.split()\n",
    "    matched = [match_elements[element] for element in elements]\n",
    "    \n",
    "    return ' '.join(matched)\n",
    "    "
   ]
  },
  {
   "cell_type": "markdown",
   "id": "f6f9ec2e",
   "metadata": {},
   "source": [
    "## Finding the formula of gradient descent!\n",
    "\n",
    "### Oh no! You fell asleep during your Machine Learning class and were not able to write down the formula of this method called \"Gradient Descent\"… You remember a few things about it though:"
   ]
  },
  {
   "cell_type": "markdown",
   "id": "237e4b1f",
   "metadata": {},
   "source": [
    "- This method is used a lot in Machine Learning to find the minimum value of a function. \n",
    "- Gradient Descent is a recursive algorithm. It means that you need to provide an initial term (a₀ = …) and the iterative term (aₙ₊₁ = …).\n",
    "- This method uses the gradient (or derivative) of the function you are trying to find the minimum of.\n",
    "- It uses a fixed variable called the learning rate η to define how far"
   ]
  },
  {
   "cell_type": "markdown",
   "id": "af9fc6d5",
   "metadata": {},
   "source": [
    "### You have an exam in a few days!! You need to find this formula back at ALL COST!!!"
   ]
  },
  {
   "cell_type": "code",
   "execution_count": 8,
   "id": "c86e763a",
   "metadata": {},
   "outputs": [
    {
     "data": {
      "application/vnd.jupyter.widget-view+json": {
       "model_id": "d942bd338110473e84527218085184d4",
       "version_major": 2,
       "version_minor": 0
      },
      "text/plain": [
       "VBox(children=(HBox(children=(BoundedFloatText(value=1.5, description='a₀ = ', layout=Layout(width='25%'), max…"
      ]
     },
     "metadata": {},
     "output_type": "display_data"
    }
   ],
   "source": [
    "import ipywidgets as widgets\n",
    "from IPython.display import display, clear_output\n",
    "import random as random\n",
    "\n",
    "# Words for the buttons\n",
    "words = [\"aₙ\", \"∇f(\", \"f(\", \")\", \"η\", \"+\", \"-\", \"÷\", \"⨉\"]\n",
    "\n",
    "# Dictionary to track how many times each button was clicked\n",
    "click_counts = {w: 0 for w in words}\n",
    "max_clicks = 2\n",
    "\n",
    "# Numeric box for initial term\n",
    "init_box = widgets.BoundedFloatText(\n",
    "    max = X_MAX,\n",
    "    min = X_MIN,\n",
    "    value=1.5,\n",
    "    step = 0.1,\n",
    "    description=\"a₀ = \", \n",
    "    layout=widgets.Layout(width=\"25%\")\n",
    ")\n",
    "\n",
    "# Random button\n",
    "random_btn = widgets.Button(description=\"Random\", width=\"25%\")\n",
    "\n",
    "def set_random_init(b):\n",
    "    init_box.value = round(random.uniform(X_MIN, X_MAX), 1)\n",
    "\n",
    "random_btn.on_click(set_random_init)\n",
    "\n",
    "# Put init_box and random_btn side by side\n",
    "init_ui = widgets.HBox([init_box, random_btn])\n",
    "\n",
    "# Text area to display the resulting string\n",
    "output_box = widgets.Textarea(\n",
    "    value=\"\",\n",
    "    placeholder=\"Try and find the formula for gradient descent...\",\n",
    "    description=\"aₙ₊₁ = \",\n",
    "    layout=widgets.Layout(width=\"50%\", height=\"60px\")\n",
    ")\n",
    "\n",
    "# Function to update the text when a button is clicked\n",
    "def make_button_callback(word):\n",
    "    def on_click(b):\n",
    "        if click_counts[word] < max_clicks:\n",
    "            click_counts[word] += 1\n",
    "            output_box.value += (word + \" \")\n",
    "        else:\n",
    "            print(f\"'{word}' already used {max_clicks} times.\")\n",
    "    return on_click\n",
    "\n",
    "# Create word buttons and attach callbacks\n",
    "buttons = []\n",
    "for word in words:\n",
    "    btn = widgets.Button(description=word)\n",
    "    btn.on_click(make_button_callback(word))\n",
    "    buttons.append(btn)\n",
    "\n",
    "# Restart button\n",
    "restart_btn = widgets.Button(description=\"⌫ Erase all\", button_style=\"danger\")\n",
    "\n",
    "def restart_callback(b):\n",
    "    global click_counts\n",
    "    click_counts = {w: 0 for w in words}  # reset counts\n",
    "    output_box.value = \"\"  # clear text\n",
    "\n",
    "restart_btn.on_click(restart_callback)\n",
    "\n",
    "# Simulation button\n",
    "simulation_btn = widgets.Button(description=\"Let's try this one!\", button_style=\"success\")\n",
    "\n",
    "\n",
    "# def run_simulation(b):\n",
    "#     b.guess_formula = output_box.value\n",
    "#     print(\"Formula:\", b.guess_formula)\n",
    "#     GD = GradientDescent(X_MIN, X_MAX)\n",
    "#     GD.set_a_0(init_box.value)\n",
    "#     GD.set_eta(eta)\n",
    "#     df_gd = GD.gradient_descent()\n",
    "#     GD.plot_iterations_and_loss()\n",
    "    \n",
    "\n",
    "# simulation_btn.on_click(run_simulation)\n",
    "\n",
    "# # Layout: output box on top, then buttons, then restart button\n",
    "# ui = widgets.VBox([init_ui, output_box, widgets.HBox(buttons), restart_btn, simulation_btn])\n",
    "# display(ui)\n",
    "\n",
    "\n",
    "output_display = widgets.Output()\n",
    "\n",
    "def run_simulation(b):\n",
    "    with output_display:\n",
    "        clear_output()  # clear previous results\n",
    "        guess_formula = extract_guessed_formula(output_box.value)\n",
    "        #print(\"Formula:\", guess_formula)\n",
    "\n",
    "        GD = GradientDescent(X_MIN, X_MAX)\n",
    "        GD.set_a_0(init_box.value)\n",
    "        GD.set_eta(eta)\n",
    "        df_gd = GD.gradient_descent(guess_formula)\n",
    "        GD.plot_iterations_and_loss()\n",
    "\n",
    "simulation_btn.on_click(run_simulation)\n",
    "\n",
    "# Add output_display to your layout\n",
    "ui = widgets.VBox([\n",
    "    init_ui,\n",
    "    output_box,\n",
    "    widgets.HBox(buttons),\n",
    "    restart_btn,\n",
    "    simulation_btn,\n",
    "    output_display\n",
    "])\n",
    "\n",
    "display(ui)\n",
    "\n"
   ]
  },
  {
   "cell_type": "code",
   "execution_count": null,
   "id": "e0f4f546",
   "metadata": {},
   "outputs": [
    {
     "data": {
      "application/vnd.jupyter.widget-view+json": {
       "model_id": "e596e2275642464e81e982c04a8c6f12",
       "version_major": 2,
       "version_minor": 0
      },
      "text/plain": [
       "VBox(children=(HBox(children=(BoundedFloatText(value=-1.5, description='a₀ = ', layout=Layout(width='25%'), ma…"
      ]
     },
     "metadata": {},
     "output_type": "display_data"
    }
   ],
   "source": [
    "import ipywidgets as widgets\n",
    "from IPython.display import display, clear_output\n",
    "import random as random\n",
    "\n",
    "\n",
    "\n",
    "# Numeric box for initial term\n",
    "init_box = widgets.BoundedFloatText(\n",
    "    max = X_MAX,\n",
    "    min = X_MIN,\n",
    "    value=1.5,\n",
    "    step = 0.1,\n",
    "    description=\"a₀ = \", \n",
    "    layout=widgets.Layout(width=\"25%\")\n",
    ")\n",
    "\n",
    "# Random button\n",
    "random_btn = widgets.Button(description=\"Random\", width=\"25%\")\n",
    "\n",
    "def set_random_init(b):\n",
    "    init_box.value = round(random.uniform(X_MIN, X_MAX), 1)\n",
    "\n",
    "random_btn.on_click(set_random_init)\n",
    "\n",
    "# Put init_box and random_btn side by side\n",
    "init_ui = widgets.HBox([init_box, random_btn])\n",
    "\n",
    "\n",
    "\n",
    "# Slider button for eta\n",
    "eta_slider = widgets.FloatSlider(\n",
    "    value=0.8,\n",
    "    min=0.01,\n",
    "    max=1.0,\n",
    "    step=0.01,\n",
    "    description='η:',\n",
    "    continuous_update=False,\n",
    "    layout=widgets.Layout(width=\"50%\")\n",
    ")\n",
    "\n",
    "\n",
    "\n",
    "\n",
    "\n",
    "# Simulation button\n",
    "simulation_btn = widgets.Button(description=\"Let's try this one!\", button_style=\"success\")\n",
    "\n",
    "\n",
    "\n",
    "output_display = widgets.Output()\n",
    "\n",
    "def run_simulation(b):\n",
    "    with output_display:\n",
    "        clear_output()  # clear previous results\n",
    "        GD = GradientDescent(X_MIN, X_MAX)\n",
    "        \n",
    "        # User inputs\n",
    "        GD.set_a_0(init_box.value)\n",
    "        GD.set_eta(eta_slider.value)\n",
    "        \n",
    "        df_gd = GD.gradient_descent()\n",
    "        GD.plot_iterations_and_loss()\n",
    "\n",
    "simulation_btn.on_click(run_simulation)\n",
    "\n",
    "# Add output_display to your layout\n",
    "ui = widgets.VBox([\n",
    "    init_ui,\n",
    "    eta_slider,\n",
    "    simulation_btn,\n",
    "    output_display\n",
    "])\n",
    "\n",
    "display(ui)\n",
    "\n"
   ]
  }
 ],
 "metadata": {
  "kernelspec": {
   "display_name": ".venv",
   "language": "python",
   "name": "python3"
  },
  "language_info": {
   "codemirror_mode": {
    "name": "ipython",
    "version": 3
   },
   "file_extension": ".py",
   "mimetype": "text/x-python",
   "name": "python",
   "nbconvert_exporter": "python",
   "pygments_lexer": "ipython3",
   "version": "3.13.2"
  }
 },
 "nbformat": 4,
 "nbformat_minor": 5
}
